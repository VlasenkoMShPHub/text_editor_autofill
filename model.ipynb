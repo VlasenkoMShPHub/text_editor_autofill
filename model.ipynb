{
 "cells": [
  {
   "cell_type": "code",
   "execution_count": 1,
   "metadata": {
    "scrolled": true
   },
   "outputs": [
    {
     "name": "stdout",
     "output_type": "stream",
     "text": [
      "Collecting markovify\n",
      "  Downloading https://files.pythonhosted.org/packages/94/b2/b4ce1e461bb3482b1fd63328a2097aed5917cdfa0dbfe9492a84ea46e2ab/markovify-0.7.1.tar.gz\n",
      "Collecting unidecode (from markovify)\n",
      "\u001b[?25l  Downloading https://files.pythonhosted.org/packages/d0/42/d9edfed04228bacea2d824904cae367ee9efd05e6cce7ceaaedd0b0ad964/Unidecode-1.1.1-py2.py3-none-any.whl (238kB)\n",
      "\u001b[K    100% |████████████████████████████████| 245kB 333kB/s ta 0:00:01\n",
      "\u001b[?25hBuilding wheels for collected packages: markovify\n",
      "  Running setup.py bdist_wheel for markovify ... \u001b[?25ldone\n",
      "\u001b[?25h  Stored in directory: /Users/Mikhail/Library/Caches/pip/wheels/66/fe/5b/07257dd2401d9835447a0f0223f967c998c153404d32612253\n",
      "Successfully built markovify\n",
      "Installing collected packages: unidecode, markovify\n",
      "Successfully installed markovify-0.7.1 unidecode-1.1.1\n"
     ]
    }
   ],
   "source": [
    "!pip install markovify"
   ]
  },
  {
   "cell_type": "code",
   "execution_count": 2,
   "metadata": {},
   "outputs": [],
   "source": [
    "import markovify\n",
    "\n",
    "# Get raw text as string.\n",
    "with open(\"data/The-Fountainhead_dataset.txt\") as f:\n",
    "    text = f.read()"
   ]
  },
  {
   "cell_type": "code",
   "execution_count": 3,
   "metadata": {},
   "outputs": [],
   "source": [
    "\n",
    "# Build the model.\n",
    "text_model = markovify.Text(text, state_size=3)"
   ]
  },
  {
   "cell_type": "code",
   "execution_count": 4,
   "metadata": {},
   "outputs": [],
   "source": [
    "with open(\"data/The-Fountainhead_dataset.txt\") as f:\n",
    "    f_text = f.read()\n",
    "\n",
    "fountainhead = markovify.Text(f_text, state_size=3)\n",
    "\n",
    "with open(\"data/the_catcher_in_the_rye.txt\") as f:\n",
    "    c_text = f.read()\n",
    "\n",
    "catcher = markovify.Text(c_text, state_size=3)\n",
    "\n",
    "text_model = markovify.combine([fountainhead, catcher])"
   ]
  },
  {
   "cell_type": "code",
   "execution_count": 18,
   "metadata": {},
   "outputs": [],
   "source": [
    "import json\n",
    "with open('data.json', 'r') as f:\n",
    "    json_model = json.load(f)\n",
    "\n",
    "text_model = markovify.Text.from_json(json_model)"
   ]
  },
  {
   "cell_type": "code",
   "execution_count": 19,
   "metadata": {
    "scrolled": false
   },
   "outputs": [
    {
     "name": "stdout",
     "output_type": "stream",
     "text": [
      "No, sir, I haven't communicated with them, because I'll probably see them again, but not for years.\n",
      "I hope that you will join me in renewing your environmental license plate -so our children and all that stuff, and they were left alone among the filled ash trays and empty glasses.\n",
      "I said to her, and when he had an article to finish; he knew he assumed when preparing to attack a paragraph.\n",
      "Sincerely, Katie Mothershead Kruse Annual Campaign Chair P. S. Your gift is a wise investment in the quality of life of their co-workers, employees, neighbors, and friends.\n",
      "..You know, I really thought you had integrity and judgment--if ever given a chance to let you know when a girl's really a terrific dancer.\n"
     ]
    }
   ],
   "source": [
    "for i in range(5):\n",
    "    print(text_model.make_sentence())"
   ]
  },
  {
   "cell_type": "code",
   "execution_count": 20,
   "metadata": {
    "scrolled": true
   },
   "outputs": [
    {
     "name": "stdout",
     "output_type": "stream",
     "text": [
      "None\n",
      "None\n",
      "None\n",
      "None\n",
      "None\n",
      "None\n",
      "None\n",
      "None\n",
      "It would be part of its site.\n",
      "None\n"
     ]
    }
   ],
   "source": [
    "beg_str = \"It\" # should start with capital letter\n",
    "for i in range(10):\n",
    "    print(text_model.make_sentence_with_start(beginning=beg_str, max_words=len(beg_str.split())+7))"
   ]
  },
  {
   "cell_type": "code",
   "execution_count": 90,
   "metadata": {},
   "outputs": [],
   "source": [
    "def get_cont(sent, max_w_cont, num_tries=10, max_coef=0.1, silent = True):\n",
    "    res = None\n",
    "    cnt = 0\n",
    "    sep = ' '\n",
    "    while res == None:\n",
    "        if cnt > num_tries:\n",
    "            res = text_model.make_sentence_with_start(beginning=sent, max_words=len(sent.split())+\n",
    "                                                      int(max_w_cont*max_coef*(cnt-num_tries)), strict=True)\n",
    "            if res != None:\n",
    "                if not silent:\n",
    "                    print(res)\n",
    "                    print(\"lenght = \" + str(len(res.split())))\n",
    "                    print(\"cnt = \" + str(cnt))\n",
    "                res = sep.join(res.split()[:len(sent.split())+max_w_cont])\n",
    "            else:\n",
    "                print(cnt)\n",
    "                if cnt > 10:\n",
    "                    return -1\n",
    "        else:\n",
    "            res = text_model.make_sentence_with_start(beginning=sent, max_words=len(sent.split())+max_w_cont, strict=True)\n",
    "        cnt += 1\n",
    "    return res   "
   ]
  },
  {
   "cell_type": "code",
   "execution_count": 95,
   "metadata": {
    "scrolled": true
   },
   "outputs": [
    {
     "name": "stdout",
     "output_type": "stream",
     "text": [
      "3\n",
      "4\n"
     ]
    },
    {
     "data": {
      "text/plain": [
       "'Dear Mr. and Mrs.'"
      ]
     },
     "execution_count": 95,
     "metadata": {},
     "output_type": "execute_result"
    }
   ],
   "source": [
    "get_cont(\"They saw\", 3, 10, 0.5)"
   ]
  },
  {
   "cell_type": "code",
   "execution_count": null,
   "metadata": {},
   "outputs": [],
   "source": []
  }
 ],
 "metadata": {
  "kernelspec": {
   "display_name": "Python 3",
   "language": "python",
   "name": "python3"
  },
  "language_info": {
   "codemirror_mode": {
    "name": "ipython",
    "version": 3
   },
   "file_extension": ".py",
   "mimetype": "text/x-python",
   "name": "python",
   "nbconvert_exporter": "python",
   "pygments_lexer": "ipython3",
   "version": "3.7.1"
  }
 },
 "nbformat": 4,
 "nbformat_minor": 2
}
